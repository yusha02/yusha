{
 "cells": [
  {
   "cell_type": "code",
   "execution_count": 1,
   "id": "stone-groove",
   "metadata": {},
   "outputs": [
    {
     "name": "stdout",
     "output_type": "stream",
     "text": [
      "your options are:\n",
      "\n",
      "1) sum of numbers\n",
      "2) average of numbers\n",
      "3) mean of numbers\n",
      "4) median of numbers\n",
      "5) mode of numbers\n",
      "\n",
      "choose your option:2\n",
      "average19.27777777777778\n"
     ]
    }
   ],
   "source": [
    "print(\"your options are:\")\n",
    "print()\n",
    "print(\"1) sum of numbers\")\n",
    "print(\"2) average of numbers\")\n",
    "print(\"3) mean of numbers\")\n",
    "print(\"4) median of numbers\")\n",
    "print(\"5) mode of numbers\")\n",
    "print()\n",
    "choice = input(\"choose your option:\")\n",
    "choice = int(choice)\n",
    "numbers = [1,2.5,4,5,12,15,16,18,100]\n",
    "2.516\n",
    "4\n",
    "5\n",
    "12\n",
    "15\n",
    "16\n",
    "18\n",
    "100\n",
    "\n",
    "if choice == 1:\n",
    "    y=0\n",
    "    for x in numbers:\n",
    "        y+=x\n",
    "    print(\"sum of numbers\" + str(y))\n",
    "elif choice == 2:\n",
    "    y=0\n",
    "    for x in numbers:\n",
    "        y+=x\n",
    "    print(\"average\" + str(y/len(numbers)))\n",
    "elif choice == 3:\n",
    "    n = len(numbers)\n",
    "    get_sum = sum(numbers)\n",
    "    mean = get_sum / n\n",
    "\n",
    "    print(\"Mean\" + str(mean))\n",
    "\n",
    "elif choice == 4:\n",
    "    num_list = numbers\n",
    "    # Sort the list\n",
    "    num_list.sort()\n",
    "    # Finding the position of the median\n",
    "    if len(num_list) % 2 == 0: # if array is of even length\n",
    "        first_median = num_list[len(num_list) // 2] #if array is of odd length\n",
    "        second_median = num_list[len(num_list) // 2 - 1]#take two median and divide it by 2\n",
    "        median = (first_median + second_median) / 2\n",
    "    else:\n",
    "        median = num_list[len(num_list) // 2]\n",
    "    print(\"Median of above list is: \" + str(median))\n",
    "elif choice == 5:\n",
    "     import collections\n",
    "     # list of elements to calculate mode\n",
    "     num_list = numbers\n",
    "     # Print the list\n",
    "     print(num_list)\n",
    "     # calculate the frequency of each item\n",
    "     data = collections.Counter(num_list)\n",
    "     data_list = dict(data)\n",
    "     # Print the items with frequency\n",
    "     print(data_list)\n",
    "     # Find the highest frequency\n",
    "     max_value = max(list(data.values()))\n",
    "     mode_val = [num for num, freq in data_list.items() if freq == max_value]\n",
    "     if len(mode_val) == len(num_list):\n",
    "         print(\"No mode in the list\")\n",
    "     else:\n",
    "         print(\"The Mode of the list is : \" + ', '.join(map(str, mode_val)))\n",
    "else:\n",
    "    print(\"you can choose from 1 to 5 only\")"
   ]
  },
  {
   "cell_type": "code",
   "execution_count": null,
   "id": "invalid-backing",
   "metadata": {},
   "outputs": [],
   "source": []
  }
 ],
 "metadata": {
  "kernelspec": {
   "display_name": "Python 3",
   "language": "python",
   "name": "python3"
  },
  "language_info": {
   "codemirror_mode": {
    "name": "ipython",
    "version": 3
   },
   "file_extension": ".py",
   "mimetype": "text/x-python",
   "name": "python",
   "nbconvert_exporter": "python",
   "pygments_lexer": "ipython3",
   "version": "3.8.5"
  }
 },
 "nbformat": 4,
 "nbformat_minor": 5
}
