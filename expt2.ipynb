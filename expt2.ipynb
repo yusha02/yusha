{
 "cells": [
  {
   "cell_type": "code",
   "execution_count": 1,
   "id": "entire-actress",
   "metadata": {},
   "outputs": [],
   "source": [
    "data = {100: {'name': 'user1', 'amount': '5000'}, 101: {'name': 'user2', 'amount': '6000'}, 102: {'name': 'user3', 'amount': '10000'}}\n",
    "list = [\"name\",\"amount\"]\n",
    "while True:\n",
    "    new_list = []\n",
    "    choice = int(input(\"1. new customer\\n2. exixting customer\\n3. delete account\\n4.exit\"))\n",
    "    if choice == 1:\n",
    "        print('create account')\n",
    "        new_account_number = int(input(\"enter account number\"))\n",
    "        for item in list:\n",
    "            new_list.append(input(\"Enter %s:\"%item))\n",
    "            data[new_account_number] = dict(zip(list,new_list))\n",
    "            print(data)\n",
    "        print('account created')\n",
    "\n",
    "    elif choice == 2:\n",
    "        new_account_number = int(input(\"enter account number\"))\n",
    "        if new_account_number in data:\n",
    "            print('datta found')\n",
    "            choice = int(input('1.withdraw\\n2.deposit\\n3.enquiry'))\n",
    "            if choice == 1:\n",
    "                amt = int(input('amount to withdraw:'))\n",
    "                if amt < (int(data[new_account_number]['amount'])):\n",
    "                    print('process')\n",
    "                else:\n",
    "                    print('sorry cant process your request')\n",
    "                    break\n",
    "                new_amt = int(data[new_account_number]['amount']) - amt\n",
    "                (data[new_account_number]['amount']) = new_amt\n",
    "                print('withdraw sucessful\\n availabe balance:',(data[new_account_number]['amount']))\n",
    "            elif choice == 2:\n",
    "                amt = int(input('amount to be deposited:'))\n",
    "                new_amt = int(data[new_account_number]['amount']) + amt\n",
    "                (data[new_account_number]['amount']) = new_amt\n",
    "                print('deposit sucessful\\n availabe balance:',(data[new_account_number]['amount']))\n",
    "            elif choice == 3:\n",
    "                print('amount', (data[new_account_number]['amount']))\n",
    "            else:\n",
    "                print('data not found')\n",
    "    elif choice == 3:\n",
    "        print('delete account')\n",
    "        new_account_number = int(input(\"enter account number\"))\n",
    "        data.pop(new_account_number)\n",
    "        print(data)\n",
    "        print('account deleted')\n",
    "    elif choice == 4:\n",
    "        print(data)\n",
    "    else :\n",
    "       print('goodbye')\n"
   ]
  },
  {
   "cell_type": "code",
   "execution_count": null,
   "id": "crucial-essay",
   "metadata": {},
   "outputs": [],
   "source": []
  }
 ],
 "metadata": {
  "kernelspec": {
   "display_name": "Python 3",
   "language": "python",
   "name": "python3"
  },
  "language_info": {
   "codemirror_mode": {
    "name": "ipython",
    "version": 3
   },
   "file_extension": ".py",
   "mimetype": "text/x-python",
   "name": "python",
   "nbconvert_exporter": "python",
   "pygments_lexer": "ipython3",
   "version": "3.8.5"
  }
 },
 "nbformat": 4,
 "nbformat_minor": 5
}
